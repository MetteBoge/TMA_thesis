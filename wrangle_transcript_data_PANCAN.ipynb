{
 "cells": [
  {
   "cell_type": "code",
   "execution_count": 1,
   "metadata": {},
   "outputs": [],
   "source": [
    "import polars as pl\n",
    "import numpy as np\n",
    "import requests\n",
    "from zipfile import ZipFile\n",
    "import os \n",
    "\n",
    "import psutil"
   ]
  },
  {
   "cell_type": "code",
   "execution_count": 2,
   "metadata": {},
   "outputs": [
    {
     "name": "stdout",
     "output_type": "stream",
     "text": [
      "Total memory: 1007.09 GB\n",
      "Available memory: 984.04 GB\n"
     ]
    }
   ],
   "source": [
    "\n",
    "\n",
    "# Get total memory\n",
    "total_memory = psutil.virtual_memory().total / (1024 ** 3)  # Convert to GB\n",
    "available_memory = psutil.virtual_memory().available / (1024 ** 3)  # Convert to GB\n",
    "\n",
    "print(f\"Total memory: {total_memory:.2f} GB\")\n",
    "print(f\"Available memory: {available_memory:.2f} GB\")"
   ]
  },
  {
   "cell_type": "code",
   "execution_count": 3,
   "metadata": {},
   "outputs": [],
   "source": [
    "# Download file anew: (takes 13 m 12s)\n",
    "chunk_size = 4096\n",
    "filename = \"C:/Users/Mette/OneDrive - Danmarks Tekniske Universitet/11. Semester Speciale/Data/Xena/TCGA_PANCAN_transcript_expression_RNAseq_RSEM_tpm.gz\"\n",
    "document_url = \"https://toil-xena-hub.s3.us-east-1.amazonaws.com/download/tcga_rsem_isoform_tpm.gz\"\n",
    "#with requests.get(document_url, stream=True) as r:\n",
    "#        with open(filename, 'wb') as f:\n",
    "#            for chunk in r.iter_content(chunk_size): \n",
    "#                if chunk:\n",
    "#                    f.write(chunk)"
   ]
  },
  {
   "cell_type": "code",
   "execution_count": 84,
   "metadata": {},
   "outputs": [],
   "source": [
    "in_file = \"/zhome/94/f/147417/tma_thesis/data/xena/tcga_Kallisto_tpm.tsv\" #TCGA_PANCAN_transcript_expression_RNAseq_RSEM_tpm.tsv\" #\"C:/Users/Mette/OneDrive - Danmarks Tekniske Universitet/11. Semester Speciale/Data/Xena/TCGA_PANCAN_transcript_expression_RNAseq_RSEM_tpm.gz\"\n",
    "in_pheno2 = \"/zhome/94/f/147417/tma_thesis/data/xena/TCGA_PANCAN_curated_clinical_data.tsv\" # \"C:/Users/Mette/OneDrive - Danmarks Tekniske Universitet/11. Semester Speciale/Data/Xena/TCGA_PANCAN_curated_clinical_data.tsv\"\n",
    "#in_transcript_id = \"/zhome/94/f/147417/tma_thesis/data/xena/TCGA_PANCAN_transcript_expression_RNAseq_RSEM_transcript_list.txt\" # \"C:/Users/Mette/OneDrive - Danmarks Tekniske Universitet/11. Semester Speciale/Data/Xena/TCGA_PANCAN_transcript_expression_RNAseq_RSEM_transcript_list.txt\"\n",
    "in_genenames = \"/zhome/94/f/147417/tma_thesis/data/targets_ensg.csv\" # \"C:/Users/Mette/OneDrive - Danmarks Tekniske Universitet/11. Semester Speciale/Data/targets_ensg.csv\""
   ]
  },
  {
   "cell_type": "code",
   "execution_count": 85,
   "metadata": {},
   "outputs": [],
   "source": [
    "# Load dataframe as lazy using polars\n",
    "lf_data = pl.scan_csv(in_file, separator=\"\\t\")\n",
    "\n",
    "# Load transcript ids:\n",
    "#with open(in_transcript_id) as f:  \n",
    "#    transcript_id_list = f.read().splitlines()\n",
    "#transcript_id_list.pop(0) # Remove \"column name\"s\n",
    "\n",
    "# Add it to the lf_data: \n",
    "#lf_data = lf_data.with_columns(trans_id = transcript_id_list)\n",
    "\n",
    "# Remove trailing . and digits on the transcript ids:\n",
    "lf_data = lf_data.with_columns(pl.col(\"sample\").str.split(\".\").list.get(0))\n",
    "\n",
    "# Load gene names as dataframe: \n",
    "df_genenames = pl.read_csv(in_genenames)"
   ]
  },
  {
   "cell_type": "code",
   "execution_count": 86,
   "metadata": {},
   "outputs": [],
   "source": [
    "# Define a function to fetch transcript IDs from Ensembl\n",
    "def fetch_transcript_ids_from_ensembl(gene_id):\n",
    "    url = f\"https://rest.ensembl.org/lookup/id/{gene_id}?expand=1\"\n",
    "    response = requests.get(url, headers={\"Content-Type\": \"application/json\"})\n",
    "    if response.ok:\n",
    "        data = response.json()\n",
    "        return [transcript['id'] for transcript in data.get('Transcript', [])]\n",
    "    else:\n",
    "        return []\n",
    "    \n",
    "# Define a function to fetch transcript IDs from Ensembl\n",
    "def fetch_gene_ids_from_ensembl(trans_id):\n",
    "    url = f\"https://rest.ensembl.org/lookup/id/{trans_id}?expand=1\"\n",
    "    response = requests.get(url, headers={\"Content-Type\": \"application/json\"})\n",
    "    if response.ok:\n",
    "        data = response.json()\n",
    "        return data.get('display_name', [])\n",
    "    else:\n",
    "        return []"
   ]
  },
  {
   "cell_type": "code",
   "execution_count": 87,
   "metadata": {},
   "outputs": [],
   "source": [
    "# From ensembl API get the transcript IDs for all genes of interest: \n",
    "# Apply the API function to the DataFrame\n",
    "df_genenames = df_genenames.with_columns(pl.col(\"converted_alias\").map_elements(fetch_transcript_ids_from_ensembl).alias(\"transcript_ids\"))\n",
    "\n",
    "# Get a list of all the transcript IDs related to any of the 14 genes of interest: \n",
    "trans_id_of_interest = df_genenames.select(pl.col(\"transcript_ids\").explode()).to_series().to_list()\n",
    "\n",
    "def make_cancer_specific_tsv(cancer_type_abb):\n",
    "    # Make list of sample ids for different cancer types\n",
    "    df_pheno = pl.read_csv(in_pheno2, separator=\"\\t\")\n",
    "    sample_id_cancertype = df_pheno.filter(pl.col(\"cancer type abbreviation\") == cancer_type_abb).select(pl.col(\"sample\")).to_numpy()\n",
    "    #sample_id_data = np.array(lf_data.collect_schema().names())\n",
    "    sample_id_data = np.array(lf_data.limit(1).collect().columns)\n",
    "    sample_id_cancertype = set(np.intersect1d(sample_id_cancertype, sample_id_data))\n",
    "\n",
    "    # Subset lazyframe to include only samples from cancer type of interest.\n",
    "    lf_data_cancertype = lf_data.select(sample_id_cancertype.union(set([\"sample\"])))\n",
    "\n",
    "    # Use list to filter the data: \n",
    "    lf_data_cancertype = lf_data_cancertype.filter(pl.col(\"sample\").is_in(trans_id_of_interest))    \n",
    "\n",
    "    return lf_data_cancertype\n",
    "\n",
    "\n",
    "def add_gene_id(in_lazy, write_file, cancer_type_abb):\n",
    "    # Add column with gene_id\n",
    "    lf = in_lazy.with_columns(pl.col(\"sample\").map_elements(fetch_gene_ids_from_ensembl).alias(\"gene_id\"))\n",
    "\n",
    "    # Rename transcript column and move it to front together with gene_id:\n",
    "    lf = lf.rename({\"sample\": \"transcript_id\"})\n",
    "    all_columns = lf.columns\n",
    "    lf = lf.select(\n",
    "        [pl.col(\"transcript_id\"), pl.col(\"gene_id\")]  + [pl.col(c) for c in all_columns if c not in [\"transcript_id\", \"gene_id\"]]\n",
    "    ).sort(by=\"gene_id\")\n",
    "\n",
    "    out_path = \"/zhome/94/f/147417/tma_thesis/data/xena/TCGA_PANCAN_transcript_expression_RNAseq_kallisto_tpm_{}.tsv\".format(cancer_type_abb)\n",
    "\n",
    "    if write_file: \n",
    "        if os.path.exists(out_path):\n",
    "            os.remove(out_path)\n",
    "\n",
    "        lf.collect().write_csv(out_path, separator=\"\\t\")\n",
    "\n",
    "    return lf\n"
   ]
  },
  {
   "cell_type": "code",
   "execution_count": 81,
   "metadata": {},
   "outputs": [
    {
     "data": {
      "text/html": [
       "<div><style>\n",
       ".dataframe > thead > tr,\n",
       ".dataframe > tbody > tr {\n",
       "  text-align: right;\n",
       "  white-space: pre-wrap;\n",
       "}\n",
       "</style>\n",
       "<small>shape: (64, 47)</small><table border=\"1\" class=\"dataframe\"><thead><tr><th>transcript_id</th><th>gene_id</th><th>TCGA-3X-AAVB-01</th><th>TCGA-W5-AA2W-01</th><th>TCGA-WD-A7RX-01</th><th>TCGA-W5-AA2H-01</th><th>TCGA-W5-AA2U-01</th><th>TCGA-W5-AA2T-01</th><th>TCGA-W5-AA2O-01</th><th>TCGA-W5-AA34-11</th><th>TCGA-W5-AA36-01</th><th>TCGA-W5-AA2I-01</th><th>TCGA-ZU-A8S4-11</th><th>TCGA-3X-AAVE-01</th><th>TCGA-ZH-A8Y6-01</th><th>TCGA-W5-AA33-01</th><th>TCGA-W5-AA2X-01</th><th>TCGA-W5-AA38-01</th><th>TCGA-W5-AA2U-11</th><th>TCGA-4G-AAZT-01</th><th>TCGA-YR-A95A-01</th><th>TCGA-W5-AA31-01</th><th>TCGA-ZH-A8Y1-01</th><th>TCGA-ZH-A8Y2-01</th><th>TCGA-W5-AA2X-11</th><th>TCGA-W5-AA39-01</th><th>TCGA-W5-AA2Z-01</th><th>TCGA-3X-AAVA-01</th><th>TCGA-W5-AA2R-11</th><th>TCGA-ZH-A8Y8-01</th><th>TCGA-ZD-A8I3-01</th><th>TCGA-W5-AA2R-01</th><th>TCGA-W5-AA34-01</th><th>TCGA-3X-AAV9-01</th><th>TCGA-W5-AA2I-11</th><th>TCGA-ZU-A8S4-01</th><th>TCGA-W5-AA31-11</th><th>TCGA-W5-AA30-01</th><th>TCGA-ZH-A8Y4-01</th><th>TCGA-W5-AA2G-01</th><th>TCGA-W5-AA2Q-11</th><th>TCGA-ZH-A8Y5-01</th><th>TCGA-W5-AA30-11</th><th>TCGA-W6-AA0S-01</th><th>TCGA-W5-AA2Q-01</th><th>TCGA-3X-AAVC-01</th><th>TCGA-4G-AAZO-01</th></tr><tr><td>str</td><td>str</td><td>f64</td><td>f64</td><td>f64</td><td>f64</td><td>f64</td><td>f64</td><td>f64</td><td>f64</td><td>f64</td><td>f64</td><td>f64</td><td>f64</td><td>f64</td><td>f64</td><td>f64</td><td>f64</td><td>f64</td><td>f64</td><td>f64</td><td>f64</td><td>f64</td><td>f64</td><td>f64</td><td>f64</td><td>f64</td><td>f64</td><td>f64</td><td>f64</td><td>f64</td><td>f64</td><td>f64</td><td>f64</td><td>f64</td><td>f64</td><td>f64</td><td>f64</td><td>f64</td><td>f64</td><td>f64</td><td>f64</td><td>f64</td><td>f64</td><td>f64</td><td>f64</td><td>f64</td></tr></thead><tbody><tr><td>&quot;ENST0000027519…</td><td>&quot;ARG1-201&quot;</td><td>-9.9658</td><td>-3.0469</td><td>-1.685</td><td>-9.9658</td><td>-3.816</td><td>-9.9658</td><td>-2.3884</td><td>4.0765</td><td>-9.9658</td><td>-9.9658</td><td>3.5923</td><td>-3.0469</td><td>-5.5735</td><td>1.5216</td><td>-9.9658</td><td>-9.9658</td><td>4.3924</td><td>-9.9658</td><td>-9.9658</td><td>1.9638</td><td>-3.3076</td><td>-9.9658</td><td>2.8542</td><td>2.5163</td><td>-9.9658</td><td>-2.9324</td><td>4.3883</td><td>-1.4305</td><td>-9.9658</td><td>-9.9658</td><td>-9.9658</td><td>-9.9658</td><td>2.6624</td><td>-9.9658</td><td>4.7555</td><td>-9.9658</td><td>-3.3076</td><td>-1.2481</td><td>2.3077</td><td>-3.6259</td><td>2.5756</td><td>-9.9658</td><td>-9.9658</td><td>-5.0116</td><td>-9.9658</td></tr><tr><td>&quot;ENST0000035696…</td><td>&quot;ARG1-202&quot;</td><td>-5.5735</td><td>-9.9658</td><td>0.547</td><td>-9.9658</td><td>-9.9658</td><td>-2.8262</td><td>2.2452</td><td>1.9111</td><td>-9.9658</td><td>0.4233</td><td>2.8562</td><td>-9.9658</td><td>-9.9658</td><td>-9.9658</td><td>-0.7346</td><td>-9.9658</td><td>2.8402</td><td>-4.035</td><td>1.6649</td><td>-0.394</td><td>-2.9324</td><td>-9.9658</td><td>3.5754</td><td>2.0673</td><td>-4.035</td><td>-9.9658</td><td>2.6464</td><td>0.2154</td><td>-9.9658</td><td>-9.9658</td><td>-9.9658</td><td>-9.9658</td><td>3.0252</td><td>-9.9658</td><td>2.8542</td><td>-5.5735</td><td>-9.9658</td><td>0.9191</td><td>1.8683</td><td>-9.9658</td><td>1.5514</td><td>-3.816</td><td>-4.6082</td><td>-4.6082</td><td>-9.9658</td></tr><tr><td>&quot;ENST0000036808…</td><td>&quot;ARG1-203&quot;</td><td>-9.9658</td><td>-2.2447</td><td>5.6453</td><td>-1.7322</td><td>-3.6259</td><td>-0.7834</td><td>4.5417</td><td>8.3469</td><td>-9.9658</td><td>-1.9379</td><td>8.2829</td><td>-0.9406</td><td>1.5013</td><td>4.7939</td><td>-0.6873</td><td>-3.816</td><td>8.6945</td><td>-9.9658</td><td>4.9677</td><td>6.0826</td><td>-9.9658</td><td>-9.9658</td><td>8.441</td><td>7.5867</td><td>-9.9658</td><td>-0.0725</td><td>8.2676</td><td>5.1879</td><td>-9.9658</td><td>-2.6349</td><td>-1.3183</td><td>-5.5735</td><td>8.4831</td><td>-0.1665</td><td>8.7651</td><td>-9.9658</td><td>3.3745</td><td>5.9839</td><td>7.8486</td><td>-9.9658</td><td>8.2165</td><td>-9.9658</td><td>-9.9658</td><td>-9.9658</td><td>-9.9658</td></tr><tr><td>&quot;ENST0000046929…</td><td>&quot;ARG1-204&quot;</td><td>-9.9658</td><td>-9.9658</td><td>-9.9658</td><td>-9.9658</td><td>-9.9658</td><td>-9.9658</td><td>-9.9658</td><td>-4.2934</td><td>-9.9658</td><td>-9.9658</td><td>0.3907</td><td>-9.9658</td><td>-9.9658</td><td>-3.0469</td><td>-9.9658</td><td>-9.9658</td><td>2.2693</td><td>-9.9658</td><td>-2.5479</td><td>-1.1811</td><td>-9.9658</td><td>-9.9658</td><td>2.3677</td><td>-0.9971</td><td>-9.9658</td><td>-9.9658</td><td>0.3685</td><td>-3.3076</td><td>-9.9658</td><td>-9.9658</td><td>-9.9658</td><td>-9.9658</td><td>-0.7834</td><td>-9.9658</td><td>-1.8314</td><td>-9.9658</td><td>-9.9658</td><td>-1.3183</td><td>1.2636</td><td>-9.9658</td><td>1.7489</td><td>-9.9658</td><td>-2.4659</td><td>-9.9658</td><td>-9.9658</td></tr><tr><td>&quot;ENST0000048482…</td><td>&quot;ARG1-205&quot;</td><td>-9.9658</td><td>-9.9658</td><td>-9.9658</td><td>-9.9658</td><td>-5.0116</td><td>-9.9658</td><td>-9.9658</td><td>1.3511</td><td>-3.1714</td><td>-9.9658</td><td>-9.9658</td><td>-2.3147</td><td>-9.9658</td><td>-2.114</td><td>-1.9942</td><td>-9.9658</td><td>-9.9658</td><td>-9.9658</td><td>-9.9658</td><td>-9.9658</td><td>-9.9658</td><td>-9.9658</td><td>-9.9658</td><td>-9.9658</td><td>-9.9658</td><td>-9.9658</td><td>-0.5332</td><td>-5.5735</td><td>-9.9658</td><td>-9.9658</td><td>-9.9658</td><td>-9.9658</td><td>-9.9658</td><td>-9.9658</td><td>1.334</td><td>-3.1714</td><td>-9.9658</td><td>-9.9658</td><td>-9.9658</td><td>-3.458</td><td>-9.9658</td><td>-9.9658</td><td>-9.9658</td><td>-2.8262</td><td>-5.0116</td></tr><tr><td>&quot;ENST0000049826…</td><td>&quot;ARG1-206&quot;</td><td>-9.9658</td><td>-9.9658</td><td>-0.4921</td><td>-9.9658</td><td>-9.9658</td><td>-9.9658</td><td>-1.8314</td><td>2.6138</td><td>-9.9658</td><td>-3.458</td><td>2.0465</td><td>-9.9658</td><td>-3.6259</td><td>-2.7274</td><td>-9.9658</td><td>-9.9658</td><td>2.6067</td><td>-9.9658</td><td>-3.816</td><td>-0.6416</td><td>-9.9658</td><td>-9.9658</td><td>3.1129</td><td>1.8444</td><td>-9.9658</td><td>-9.9658</td><td>0.4447</td><td>-1.1488</td><td>-4.2934</td><td>-4.2934</td><td>-9.9658</td><td>-9.9658</td><td>2.4908</td><td>-9.9658</td><td>3.1908</td><td>-9.9658</td><td>-9.9658</td><td>-0.5973</td><td>-0.5543</td><td>-9.9658</td><td>1.3735</td><td>-9.9658</td><td>-9.9658</td><td>-9.9658</td><td>-2.6349</td></tr><tr><td>&quot;ENST0000026178…</td><td>&quot;ARG2-201&quot;</td><td>1.614</td><td>-0.8339</td><td>-1.5951</td><td>-2.4659</td><td>0.7999</td><td>0.537</td><td>-1.8836</td><td>-3.6259</td><td>-1.9942</td><td>-1.5951</td><td>0.8726</td><td>-2.0529</td><td>1.3283</td><td>-0.4719</td><td>2.9581</td><td>-0.5973</td><td>-0.8863</td><td>-2.0529</td><td>0.8082</td><td>0.9343</td><td>-0.8084</td><td>-2.6349</td><td>-1.9379</td><td>1.1184</td><td>-0.6873</td><td>0.0158</td><td>0.9038</td><td>-0.013</td><td>1.5854</td><td>-3.3076</td><td>-0.9686</td><td>2.1925</td><td>-3.6259</td><td>1.6466</td><td>-2.114</td><td>-0.3566</td><td>-1.0559</td><td>0.605</td><td>-0.2498</td><td>-0.3022</td><td>-2.5479</td><td>-0.7108</td><td>-0.4131</td><td>3.5022</td><td>2.6161</td></tr><tr><td>&quot;ENST0000055649…</td><td>&quot;ARG2-202&quot;</td><td>-9.9658</td><td>-9.9658</td><td>-9.9658</td><td>-3.458</td><td>-1.685</td><td>-9.9658</td><td>-9.9658</td><td>-9.9658</td><td>-9.9658</td><td>-9.9658</td><td>-9.9658</td><td>-9.9658</td><td>-9.9658</td><td>-9.9658</td><td>-9.9658</td><td>-9.9658</td><td>-9.9658</td><td>-9.9658</td><td>-9.9658</td><td>-9.9658</td><td>-9.9658</td><td>-9.9658</td><td>-9.9658</td><td>-9.9658</td><td>-9.9658</td><td>-9.9658</td><td>-9.9658</td><td>-2.3147</td><td>-9.9658</td><td>-3.458</td><td>-9.9658</td><td>-9.9658</td><td>-9.9658</td><td>-3.0469</td><td>-9.9658</td><td>-9.9658</td><td>-9.9658</td><td>-9.9658</td><td>-9.9658</td><td>-9.9658</td><td>-9.9658</td><td>-3.1714</td><td>-2.9324</td><td>-9.9658</td><td>-9.9658</td></tr><tr><td>&quot;ENST0000055712…</td><td>&quot;ARG2-203&quot;</td><td>-2.9324</td><td>-2.5479</td><td>-9.9658</td><td>-9.9658</td><td>-2.9324</td><td>-9.9658</td><td>-2.4659</td><td>-9.9658</td><td>-2.2447</td><td>-9.9658</td><td>-9.9658</td><td>-1.5105</td><td>-1.3921</td><td>-2.7274</td><td>-1.3921</td><td>-9.9658</td><td>-9.9658</td><td>-5.0116</td><td>-9.9658</td><td>-9.9658</td><td>-9.9658</td><td>-2.114</td><td>-9.9658</td><td>-9.9658</td><td>-0.8599</td><td>-2.1779</td><td>-9.9658</td><td>-9.9658</td><td>-1.685</td><td>-4.035</td><td>-1.9942</td><td>-0.6643</td><td>-9.9658</td><td>-3.3076</td><td>-2.5479</td><td>-1.9942</td><td>-6.5064</td><td>-0.4325</td><td>-3.458</td><td>-1.8314</td><td>-6.5064</td><td>-9.9658</td><td>-9.9658</td><td>-1.1488</td><td>-1.8314</td></tr><tr><td>&quot;ENST0000055731…</td><td>&quot;ARG2-204&quot;</td><td>-0.6873</td><td>-9.9658</td><td>-2.0529</td><td>-3.816</td><td>-1.0262</td><td>-1.8836</td><td>-9.9658</td><td>-3.1714</td><td>-9.9658</td><td>-9.9658</td><td>-3.0469</td><td>-2.4659</td><td>-1.1811</td><td>-2.3147</td><td>-9.9658</td><td>-9.9658</td><td>-1.4699</td><td>-2.8262</td><td>-1.9379</td><td>-1.5951</td><td>-1.0559</td><td>-1.7322</td><td>-3.3076</td><td>-0.1993</td><td>-1.8836</td><td>-0.8339</td><td>-0.9971</td><td>-1.7809</td><td>-9.9658</td><td>-1.9942</td><td>-0.3022</td><td>-0.8599</td><td>-3.458</td><td>-1.9942</td><td>-2.3884</td><td>-5.5735</td><td>-9.9658</td><td>-0.6416</td><td>-9.9658</td><td>-3.0469</td><td>-3.1714</td><td>-3.0469</td><td>-2.3884</td><td>-0.2671</td><td>-0.5756</td></tr><tr><td>&quot;ENST0000021716…</td><td>&quot;BIRC7-201&quot;</td><td>1.9149</td><td>-2.5479</td><td>-2.7274</td><td>-0.4719</td><td>-9.9658</td><td>-2.4659</td><td>-2.7274</td><td>-9.9658</td><td>-2.9324</td><td>-1.8836</td><td>-9.9658</td><td>-1.3921</td><td>-9.9658</td><td>-1.9942</td><td>-1.7322</td><td>-1.4699</td><td>-3.3076</td><td>-2.3884</td><td>-9.9658</td><td>-3.3076</td><td>-0.2498</td><td>-9.9658</td><td>-9.9658</td><td>-9.9658</td><td>-2.9324</td><td>-0.6416</td><td>-9.9658</td><td>-9.9658</td><td>-1.1488</td><td>-2.114</td><td>-9.9658</td><td>4.0064</td><td>-9.9658</td><td>-1.9379</td><td>-9.9658</td><td>-3.1714</td><td>-9.9658</td><td>-1.5522</td><td>-9.9658</td><td>-9.9658</td><td>-9.9658</td><td>-2.3884</td><td>-3.816</td><td>-2.3147</td><td>-9.9658</td></tr><tr><td>&quot;ENST0000034241…</td><td>&quot;BIRC7-202&quot;</td><td>1.0983</td><td>-1.4305</td><td>-9.9658</td><td>-9.9658</td><td>-2.3147</td><td>-9.9658</td><td>-9.9658</td><td>-5.5735</td><td>-3.6259</td><td>-9.9658</td><td>-9.9658</td><td>-9.9658</td><td>-9.9658</td><td>-3.458</td><td>-1.0559</td><td>-9.9658</td><td>-2.4659</td><td>-2.8262</td><td>-2.8262</td><td>-2.2447</td><td>-9.9658</td><td>-9.9658</td><td>-4.2934</td><td>-9.9658</td><td>-1.9942</td><td>-9.9658</td><td>-5.5735</td><td>-1.4699</td><td>-1.0862</td><td>-9.9658</td><td>-2.7274</td><td>3.3336</td><td>-9.9658</td><td>-0.1993</td><td>-5.5735</td><td>-9.9658</td><td>-5.5735</td><td>-0.8339</td><td>-5.0116</td><td>-4.035</td><td>-5.5735</td><td>-1.1172</td><td>-2.5479</td><td>-0.4921</td><td>-0.5543</td></tr><tr><td>&hellip;</td><td>&hellip;</td><td>&hellip;</td><td>&hellip;</td><td>&hellip;</td><td>&hellip;</td><td>&hellip;</td><td>&hellip;</td><td>&hellip;</td><td>&hellip;</td><td>&hellip;</td><td>&hellip;</td><td>&hellip;</td><td>&hellip;</td><td>&hellip;</td><td>&hellip;</td><td>&hellip;</td><td>&hellip;</td><td>&hellip;</td><td>&hellip;</td><td>&hellip;</td><td>&hellip;</td><td>&hellip;</td><td>&hellip;</td><td>&hellip;</td><td>&hellip;</td><td>&hellip;</td><td>&hellip;</td><td>&hellip;</td><td>&hellip;</td><td>&hellip;</td><td>&hellip;</td><td>&hellip;</td><td>&hellip;</td><td>&hellip;</td><td>&hellip;</td><td>&hellip;</td><td>&hellip;</td><td>&hellip;</td><td>&hellip;</td><td>&hellip;</td><td>&hellip;</td><td>&hellip;</td><td>&hellip;</td><td>&hellip;</td><td>&hellip;</td><td>&hellip;</td></tr><tr><td>&quot;ENST0000050363…</td><td>&quot;TDO2-201&quot;</td><td>-9.9658</td><td>-9.9658</td><td>-9.9658</td><td>-9.9658</td><td>-9.9658</td><td>-9.9658</td><td>-9.9658</td><td>-3.6259</td><td>-9.9658</td><td>-9.9658</td><td>-9.9658</td><td>-9.9658</td><td>-9.9658</td><td>-3.6259</td><td>-9.9658</td><td>-9.9658</td><td>-3.6259</td><td>-9.9658</td><td>-9.9658</td><td>-4.035</td><td>-9.9658</td><td>-1.5105</td><td>-3.6259</td><td>-9.9658</td><td>-9.9658</td><td>-9.9658</td><td>-3.816</td><td>-3.816</td><td>-2.5479</td><td>-9.9658</td><td>-9.9658</td><td>-3.3076</td><td>-9.9658</td><td>-2.5479</td><td>-3.816</td><td>-9.9658</td><td>-9.9658</td><td>-3.6259</td><td>-3.458</td><td>-9.9658</td><td>-4.035</td><td>-9.9658</td><td>-9.9658</td><td>-9.9658</td><td>-9.9658</td></tr><tr><td>&quot;ENST0000050607…</td><td>&quot;TDO2-202&quot;</td><td>-9.9658</td><td>-3.0469</td><td>-9.9658</td><td>-9.9658</td><td>-9.9658</td><td>-3.6259</td><td>-9.9658</td><td>-1.3921</td><td>-9.9658</td><td>-9.9658</td><td>-1.6394</td><td>-9.9658</td><td>-9.9658</td><td>-9.9658</td><td>-9.9658</td><td>-9.9658</td><td>-1.5522</td><td>-9.9658</td><td>-9.9658</td><td>-9.9658</td><td>-9.9658</td><td>-9.9658</td><td>-3.6259</td><td>-9.9658</td><td>-9.9658</td><td>-9.9658</td><td>-9.9658</td><td>-9.9658</td><td>-0.1187</td><td>-2.9324</td><td>-9.9658</td><td>-9.9658</td><td>-9.9658</td><td>-1.9379</td><td>-0.6193</td><td>-9.9658</td><td>-9.9658</td><td>-9.9658</td><td>-9.9658</td><td>-9.9658</td><td>-3.458</td><td>-9.9658</td><td>-3.1714</td><td>-9.9658</td><td>-9.9658</td></tr><tr><td>&quot;ENST0000050618…</td><td>&quot;TDO2-203&quot;</td><td>-9.9658</td><td>-9.9658</td><td>-9.9658</td><td>-9.9658</td><td>-9.9658</td><td>-9.9658</td><td>-9.9658</td><td>-9.9658</td><td>-9.9658</td><td>-9.9658</td><td>-9.9658</td><td>-9.9658</td><td>-9.9658</td><td>-4.2934</td><td>-9.9658</td><td>-9.9658</td><td>-9.9658</td><td>-9.9658</td><td>-9.9658</td><td>-4.6082</td><td>-9.9658</td><td>-9.9658</td><td>-4.2934</td><td>-9.9658</td><td>-9.9658</td><td>-9.9658</td><td>-4.6082</td><td>-9.9658</td><td>-2.2447</td><td>-9.9658</td><td>-9.9658</td><td>-3.3076</td><td>-3.3076</td><td>-9.9658</td><td>-4.6082</td><td>-9.9658</td><td>-9.9658</td><td>-9.9658</td><td>-9.9658</td><td>-9.9658</td><td>-9.9658</td><td>-9.9658</td><td>-9.9658</td><td>-9.9658</td><td>-9.9658</td></tr><tr><td>&quot;ENST0000050759…</td><td>&quot;TDO2-204&quot;</td><td>-9.9658</td><td>-9.9658</td><td>-9.9658</td><td>-9.9658</td><td>-9.9658</td><td>-9.9658</td><td>-9.9658</td><td>-9.9658</td><td>-9.9658</td><td>-9.9658</td><td>-2.4659</td><td>-9.9658</td><td>-9.9658</td><td>-9.9658</td><td>-9.9658</td><td>-9.9658</td><td>-9.9658</td><td>-9.9658</td><td>-9.9658</td><td>-9.9658</td><td>-9.9658</td><td>-9.9658</td><td>-9.9658</td><td>-9.9658</td><td>-9.9658</td><td>-9.9658</td><td>-3.0469</td><td>-9.9658</td><td>-9.9658</td><td>-9.9658</td><td>-9.9658</td><td>-9.9658</td><td>-9.9658</td><td>-9.9658</td><td>-9.9658</td><td>-9.9658</td><td>-3.1714</td><td>-9.9658</td><td>-9.9658</td><td>-9.9658</td><td>-9.9658</td><td>-9.9658</td><td>-9.9658</td><td>-2.8262</td><td>-9.9658</td></tr><tr><td>&quot;ENST0000050973…</td><td>&quot;TDO2-205&quot;</td><td>-4.6082</td><td>-9.9658</td><td>-1.1811</td><td>-9.9658</td><td>-3.6259</td><td>-9.9658</td><td>-2.5479</td><td>2.0465</td><td>-9.9658</td><td>-9.9658</td><td>0.7999</td><td>-4.2934</td><td>-9.9658</td><td>-1.8836</td><td>-3.816</td><td>-9.9658</td><td>2.7161</td><td>-9.9658</td><td>-2.6349</td><td>-0.9971</td><td>-4.2934</td><td>-9.9658</td><td>3.162</td><td>2.8819</td><td>-3.458</td><td>-9.9658</td><td>-0.3752</td><td>-2.3147</td><td>-2.9324</td><td>-9.9658</td><td>-9.9658</td><td>-9.9658</td><td>1.9527</td><td>-3.458</td><td>2.3337</td><td>-9.9658</td><td>-9.9658</td><td>-1.9379</td><td>-0.5332</td><td>-9.9658</td><td>1.3109</td><td>-9.9658</td><td>-2.2447</td><td>-4.2934</td><td>-9.9658</td></tr><tr><td>&quot;ENST0000051029…</td><td>&quot;TDO2-206&quot;</td><td>-9.9658</td><td>-9.9658</td><td>-9.9658</td><td>-9.9658</td><td>-9.9658</td><td>-9.9658</td><td>-9.9658</td><td>-9.9658</td><td>-9.9658</td><td>-9.9658</td><td>1.4281</td><td>-9.9658</td><td>-9.9658</td><td>0.4657</td><td>-9.9658</td><td>-9.9658</td><td>2.0325</td><td>-9.9658</td><td>-9.9658</td><td>-0.6416</td><td>-0.9132</td><td>-3.1714</td><td>1.5064</td><td>0.688</td><td>-9.9658</td><td>-9.9658</td><td>-0.0725</td><td>-0.6416</td><td>-1.1811</td><td>-9.9658</td><td>-9.9658</td><td>-9.9658</td><td>0.9419</td><td>-9.9658</td><td>1.46</td><td>-0.2845</td><td>-9.9658</td><td>-0.9686</td><td>0.605</td><td>-9.9658</td><td>0.6239</td><td>-9.9658</td><td>-0.8339</td><td>-9.9658</td><td>-9.9658</td></tr><tr><td>&quot;ENST0000051258…</td><td>&quot;TDO2-207&quot;</td><td>-4.6082</td><td>-5.5735</td><td>-1.4305</td><td>-6.5064</td><td>-6.5064</td><td>-6.5064</td><td>-3.0469</td><td>2.0604</td><td>-9.9658</td><td>-9.9658</td><td>0.8568</td><td>-5.0116</td><td>-4.6082</td><td>-2.114</td><td>-6.5064</td><td>-9.9658</td><td>2.5707</td><td>-9.9658</td><td>-3.3076</td><td>-1.2142</td><td>-4.6082</td><td>-9.9658</td><td>3.0515</td><td>3.6612</td><td>-3.0469</td><td>-6.5064</td><td>0.4967</td><td>-2.3147</td><td>-4.6082</td><td>-6.5064</td><td>-9.9658</td><td>-6.5064</td><td>2.3077</td><td>-5.0116</td><td>2.299</td><td>-4.6082</td><td>-9.9658</td><td>-3.0469</td><td>-0.1828</td><td>-6.5064</td><td>1.4065</td><td>-4.6082</td><td>-1.8314</td><td>-3.3076</td><td>-9.9658</td></tr><tr><td>&quot;ENST0000053635…</td><td>&quot;TDO2-208&quot;</td><td>1.5612</td><td>1.1382</td><td>5.1367</td><td>1.5902</td><td>0.7579</td><td>0.9115</td><td>4.2803</td><td>7.5813</td><td>0.6145</td><td>0.1648</td><td>8.5863</td><td>1.2636</td><td>1.0363</td><td>5.4446</td><td>0.8961</td><td>2.0638</td><td>8.9716</td><td>0.1388</td><td>3.9089</td><td>5.8592</td><td>2.2753</td><td>-1.3921</td><td>8.5391</td><td>9.1365</td><td>2.694</td><td>1.884</td><td>7.744</td><td>4.8309</td><td>2.7826</td><td>-0.1504</td><td>-0.6873</td><td>1.4859</td><td>8.4079</td><td>3.7313</td><td>8.4931</td><td>2.2206</td><td>3.3478</td><td>5.7304</td><td>7.0635</td><td>1.0151</td><td>8.2431</td><td>1.614</td><td>3.6101</td><td>3.011</td><td>-2.2447</td></tr><tr><td>&quot;ENST0000022193…</td><td>&quot;TGFB1-201&quot;</td><td>5.2208</td><td>5.4932</td><td>4.4874</td><td>5.7501</td><td>4.2892</td><td>5.6011</td><td>2.9893</td><td>2.0004</td><td>5.0571</td><td>1.7273</td><td>2.0147</td><td>4.6404</td><td>3.7529</td><td>4.5167</td><td>3.1095</td><td>3.5633</td><td>2.0878</td><td>4.2929</td><td>3.644</td><td>7.1901</td><td>5.7514</td><td>5.5441</td><td>2.9692</td><td>2.1345</td><td>5.8344</td><td>6.3386</td><td>2.2633</td><td>6.0926</td><td>5.8339</td><td>4.4816</td><td>3.7226</td><td>5.709</td><td>0.9268</td><td>6.154</td><td>2.0604</td><td>4.5454</td><td>4.3456</td><td>6.1799</td><td>3.6113</td><td>5.213</td><td>2.9948</td><td>7.4534</td><td>4.5928</td><td>3.7529</td><td>3.3221</td></tr><tr><td>&quot;ENST0000059745…</td><td>&quot;TGFB1-202&quot;</td><td>-0.4521</td><td>-0.7108</td><td>-1.8836</td><td>1.9111</td><td>-1.1811</td><td>-1.6394</td><td>-1.0262</td><td>-2.3147</td><td>0.7832</td><td>-0.8084</td><td>-2.2447</td><td>-1.9942</td><td>-1.7809</td><td>-9.9658</td><td>-0.9971</td><td>-0.3201</td><td>-9.9658</td><td>-0.6643</td><td>-9.9658</td><td>0.8647</td><td>0.5666</td><td>-1.8314</td><td>-1.2828</td><td>-9.9658</td><td>-1.8836</td><td>-9.9658</td><td>-9.9658</td><td>0.9642</td><td>-0.394</td><td>-1.0559</td><td>-0.7834</td><td>-1.6394</td><td>-9.9658</td><td>0.2154</td><td>-9.9658</td><td>-0.8084</td><td>-1.9942</td><td>-0.9132</td><td>-1.3921</td><td>-1.685</td><td>-9.9658</td><td>1.5563</td><td>-9.9658</td><td>-9.9658</td><td>-1.0862</td></tr><tr><td>&quot;ENST0000059875…</td><td>&quot;TGFB1-203&quot;</td><td>0.9343</td><td>0.8805</td><td>1.683</td><td>3.644</td><td>-0.1345</td><td>0.5568</td><td>0.2762</td><td>0.1519</td><td>-0.013</td><td>1.6875</td><td>-0.6643</td><td>0.7233</td><td>1.1382</td><td>1.1577</td><td>0.547</td><td>1.7446</td><td>0.537</td><td>3.4817</td><td>1.0642</td><td>0.8805</td><td>-9.9658</td><td>1.0151</td><td>-9.9658</td><td>-0.4521</td><td>1.3735</td><td>1.3109</td><td>-2.5479</td><td>1.7446</td><td>0.099</td><td>-0.9132</td><td>0.0854</td><td>2.0004</td><td>-0.2671</td><td>1.1117</td><td>-2.114</td><td>1.3791</td><td>1.3791</td><td>0.4447</td><td>-0.2498</td><td>2.7357</td><td>-0.5125</td><td>1.412</td><td>0.1776</td><td>-1.0262</td><td>-9.9658</td></tr><tr><td>&quot;ENST0000060019…</td><td>&quot;TGFB1-204&quot;</td><td>1.6374</td><td>1.4441</td><td>1.4808</td><td>3.3577</td><td>-1.4699</td><td>1.4281</td><td>-0.9971</td><td>-1.0862</td><td>2.2633</td><td>-9.9658</td><td>-9.9658</td><td>0.044</td><td>-2.3884</td><td>0.0854</td><td>0.5568</td><td>-0.1031</td><td>-3.3076</td><td>1.3511</td><td>-0.8863</td><td>2.685</td><td>-9.9658</td><td>1.4911</td><td>0.3573</td><td>-4.6082</td><td>0.9115</td><td>1.8484</td><td>-1.2142</td><td>1.7009</td><td>1.9415</td><td>1.2147</td><td>0.3907</td><td>1.0363</td><td>-9.9658</td><td>2.0604</td><td>-2.3884</td><td>-0.0574</td><td>-1.6394</td><td>1.9786</td><td>0.3231</td><td>1.5514</td><td>-9.9658</td><td>2.7379</td><td>-9.9658</td><td>-0.1993</td><td>-0.4921</td></tr></tbody></table></div>"
      ],
      "text/plain": [
       "shape: (64, 47)\n",
       "┌───────────┬───────────┬───────────┬───────────┬───┬───────────┬───────────┬───────────┬──────────┐\n",
       "│ transcrip ┆ gene_id   ┆ TCGA-3X-A ┆ TCGA-W5-A ┆ … ┆ TCGA-W6-A ┆ TCGA-W5-A ┆ TCGA-3X-A ┆ TCGA-4G- │\n",
       "│ t_id      ┆ ---       ┆ AVB-01    ┆ A2W-01    ┆   ┆ A0S-01    ┆ A2Q-01    ┆ AVC-01    ┆ AAZO-01  │\n",
       "│ ---       ┆ str       ┆ ---       ┆ ---       ┆   ┆ ---       ┆ ---       ┆ ---       ┆ ---      │\n",
       "│ str       ┆           ┆ f64       ┆ f64       ┆   ┆ f64       ┆ f64       ┆ f64       ┆ f64      │\n",
       "╞═══════════╪═══════════╪═══════════╪═══════════╪═══╪═══════════╪═══════════╪═══════════╪══════════╡\n",
       "│ ENST00000 ┆ ARG1-201  ┆ -9.9658   ┆ -3.0469   ┆ … ┆ -9.9658   ┆ -9.9658   ┆ -5.0116   ┆ -9.9658  │\n",
       "│ 275196    ┆           ┆           ┆           ┆   ┆           ┆           ┆           ┆          │\n",
       "│ ENST00000 ┆ ARG1-202  ┆ -5.5735   ┆ -9.9658   ┆ … ┆ -3.816    ┆ -4.6082   ┆ -4.6082   ┆ -9.9658  │\n",
       "│ 356962    ┆           ┆           ┆           ┆   ┆           ┆           ┆           ┆          │\n",
       "│ ENST00000 ┆ ARG1-203  ┆ -9.9658   ┆ -2.2447   ┆ … ┆ -9.9658   ┆ -9.9658   ┆ -9.9658   ┆ -9.9658  │\n",
       "│ 368087    ┆           ┆           ┆           ┆   ┆           ┆           ┆           ┆          │\n",
       "│ ENST00000 ┆ ARG1-204  ┆ -9.9658   ┆ -9.9658   ┆ … ┆ -9.9658   ┆ -2.4659   ┆ -9.9658   ┆ -9.9658  │\n",
       "│ 469293    ┆           ┆           ┆           ┆   ┆           ┆           ┆           ┆          │\n",
       "│ …         ┆ …         ┆ …         ┆ …         ┆ … ┆ …         ┆ …         ┆ …         ┆ …        │\n",
       "│ ENST00000 ┆ TGFB1-201 ┆ 5.2208    ┆ 5.4932    ┆ … ┆ 7.4534    ┆ 4.5928    ┆ 3.7529    ┆ 3.3221   │\n",
       "│ 221930    ┆           ┆           ┆           ┆   ┆           ┆           ┆           ┆          │\n",
       "│ ENST00000 ┆ TGFB1-202 ┆ -0.4521   ┆ -0.7108   ┆ … ┆ 1.5563    ┆ -9.9658   ┆ -9.9658   ┆ -1.0862  │\n",
       "│ 597453    ┆           ┆           ┆           ┆   ┆           ┆           ┆           ┆          │\n",
       "│ ENST00000 ┆ TGFB1-203 ┆ 0.9343    ┆ 0.8805    ┆ … ┆ 1.412     ┆ 0.1776    ┆ -1.0262   ┆ -9.9658  │\n",
       "│ 598758    ┆           ┆           ┆           ┆   ┆           ┆           ┆           ┆          │\n",
       "│ ENST00000 ┆ TGFB1-204 ┆ 1.6374    ┆ 1.4441    ┆ … ┆ 2.7379    ┆ -9.9658   ┆ -0.1993   ┆ -0.4921  │\n",
       "│ 600196    ┆           ┆           ┆           ┆   ┆           ┆           ┆           ┆          │\n",
       "└───────────┴───────────┴───────────┴───────────┴───┴───────────┴───────────┴───────────┴──────────┘"
      ]
     },
     "execution_count": 81,
     "metadata": {},
     "output_type": "execute_result"
    }
   ],
   "source": [
    "add_gene_id(make_cancer_specific_tsv(c_type), True, c_type).sort(by=\"gene_id\").collect()"
   ]
  },
  {
   "cell_type": "code",
   "execution_count": 88,
   "metadata": {},
   "outputs": [
    {
     "name": "stdout",
     "output_type": "stream",
     "text": [
      "PAAD\n",
      "SKCM\n",
      "LAML\n",
      "CHOL\n",
      "CESC\n",
      "DLBC\n",
      "HNSC\n",
      "BRCA\n",
      "LUAD\n",
      "LUSC\n"
     ]
    }
   ],
   "source": [
    "cancer_type_list = [\"PAAD\", \"SKCM\", \"LAML\", \"CHOL\", \"CESC\", \"DLBC\", \"HNSC\", \"BRCA\", \"LUAD\", \"LUSC\"]\n",
    "\n",
    "for c_type in cancer_type_list: \n",
    "    print(c_type)\n",
    "    add_gene_id(make_cancer_specific_tsv(c_type), True, c_type)"
   ]
  }
 ],
 "metadata": {
  "kernelspec": {
   "display_name": "base",
   "language": "python",
   "name": "python3"
  },
  "language_info": {
   "codemirror_mode": {
    "name": "ipython",
    "version": 3
   },
   "file_extension": ".py",
   "mimetype": "text/x-python",
   "name": "python",
   "nbconvert_exporter": "python",
   "pygments_lexer": "ipython3",
   "version": "3.9.18"
  }
 },
 "nbformat": 4,
 "nbformat_minor": 2
}
