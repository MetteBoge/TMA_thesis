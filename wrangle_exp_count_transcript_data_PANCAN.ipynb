{
 "cells": [
  {
   "cell_type": "code",
   "execution_count": 1,
   "metadata": {},
   "outputs": [],
   "source": [
    "#!/usr/bin/python3\n",
    "import polars as pl\n",
    "import numpy as np\n",
    "import requests\n",
    "from zipfile import ZipFile\n",
    "import os \n",
    "\n",
    "import psutil\n"
   ]
  },
  {
   "cell_type": "code",
   "execution_count": 2,
   "metadata": {},
   "outputs": [],
   "source": [
    "\n",
    "in_file = \"/zhome/94/f/147417/tma_thesis/data/xena/TCGA_pancan_expected_count_transcripts.tsv\" #\"/zhome/94/f/147417/tma_thesis/data/xena/TCGA_pancan_expected_count.tsv\" #tma_thesis/data/xena/TCGA_PANCAN_transcript_expression_RNAseq_RSEM_tpm.tsv\" #\"C:/Users/Mette/OneDrive - Danmarks Tekniske Universitet/11. Semester Speciale/Data/Xena/TCGA_PANCAN_transcript_expression_RNAseq_RSEM_tpm.gz\"\n",
    "in_pheno2 = \"/zhome/94/f/147417/tma_thesis/data/xena/TCGA_PANCAN_curated_clinical_data.tsv\" # \"C:/Users/Mette/OneDrive - Danmarks Tekniske Universitet/11. Semester Speciale/Data/Xena/TCGA_PANCAN_curated_clinical_data.tsv\"\n",
    "in_transcripts = \"/zhome/94/f/147417/tma_thesis/data/transcripts_all.tsv\" # \"C:/Users/Mette/OneDrive - Danmarks Tekniske Universitet/11. Semester Speciale/Data/Xena/TCGA_PANCAN_transcript_expression_RNAseq_RSEM_transcript_list.txt\"\n",
    "\n",
    "cancer_type_list = [\"LAML\", \"CHOL\", \"CESC\", \"DLBC\", \"HNSC\", \"BRCA\", \"PAAD\", \"SKCM\", \"LUAD\", \"LUSC\"]\n",
    "\n",
    "# Load dataframe as lazy using polars and remove version numbers from transcript IDs\n",
    "lf_data = pl.scan_csv(in_file, separator=\"\\t\").with_columns(pl.col(\"sample\").str.extract(r\"([^.]+)\", 1))\n",
    "# Load a table with transcript information: \n",
    "df_transcripts = pl.read_csv(in_transcripts, separator=\"\\t\").with_columns()\n",
    "# Rename column to sample (match data frame) and remove version numbers of transcripts: \n",
    "trans_id_of_interest = df_transcripts[[\"Transcript ID\", \"Name\"]].rename({\"Transcript ID\": \"sample\"}).with_columns(pl.col(\"sample\").str.extract(r\"([^.]+)\", 1)).lazy()#.to_list()\n",
    "\n",
    "df_pheno = pl.read_csv(in_pheno2, separator=\"\\t\")\n"
   ]
  },
  {
   "cell_type": "code",
   "execution_count": 3,
   "metadata": {},
   "outputs": [
    {
     "name": "stdout",
     "output_type": "stream",
     "text": [
      "shape: (73, 2)\n",
      "┌─────────────────┬──────────────┐\n",
      "│ sample          ┆ Name         │\n",
      "│ ---             ┆ ---          │\n",
      "│ str             ┆ str          │\n",
      "╞═════════════════╪══════════════╡\n",
      "│ ENST00000381577 ┆ CD274-202    │\n",
      "│ ENST00000381573 ┆ CD274-201    │\n",
      "│ ENST00000498261 ┆ CD274-205    │\n",
      "│ ENST00000492923 ┆ CD274-204    │\n",
      "│ …               ┆ …            │\n",
      "│ ENST00000593178 ┆ SIGLEC15-204 │\n",
      "│ ENST00000217169 ┆ BIRC7-201    │\n",
      "│ ENST00000342412 ┆ BIRC7-202    │\n",
      "│ ENST00000395306 ┆ BIRC7-203    │\n",
      "└─────────────────┴──────────────┘\n"
     ]
    }
   ],
   "source": [
    "# Define a function to fetch transcript IDs from Ensembl\n",
    "def fetch_gene_ids_from_ensembl(trans_id):\n",
    "    url = f\"https://rest.ensembl.org/lookup/id/{trans_id}?expand=1\"\n",
    "    response = requests.get(url, headers={\"Content-Type\": \"application/json\"})\n",
    "    if response.ok:\n",
    "        data = response.json()\n",
    "        return data.get('display_name', [])\n",
    "    else:\n",
    "        return []\n",
    "\n",
    "print(trans_id_of_interest.collect())"
   ]
  },
  {
   "cell_type": "code",
   "execution_count": 4,
   "metadata": {},
   "outputs": [],
   "source": [
    "cancer_type_abb = \"PAAD\"\n",
    "\n",
    "sample_id_cancertype = df_pheno.filter(pl.col(\"cancer type abbreviation\") == cancer_type_abb).select(pl.col(\"sample\")).to_numpy()\n",
    "\n",
    "sample_id_data = np.array(lf_data.limit(1).collect().columns)\n",
    "sample_id_cancertype = set(np.intersect1d(sample_id_cancertype, sample_id_data))\n",
    "\n",
    "# Subset lazyframe to include only samples from cancer type of interest.\n",
    "lf_data_cancertype = lf_data.select(sample_id_cancertype.union(set([\"sample\"])))\n",
    "\n",
    "# Use list to filter the data: \n",
    "lf_data_cancertype = lf_data_cancertype.join(trans_id_of_interest, on=\"sample\")\n"
   ]
  },
  {
   "cell_type": "code",
   "execution_count": 7,
   "metadata": {},
   "outputs": [],
   "source": [
    "\n",
    "# From ensembl API get the transcript IDs for all genes of interest: \n",
    "# Apply the API function to the DataFrame\n",
    "#df_genenames = df_genenames.with_columns(pl.col(\"converted_alias\").map_elements(fetch_transcript_ids_from_ensembl).alias(\"transcript_ids\"))\n",
    "\n",
    "# Get a list of all the transcript IDs related to any of the 14 genes of interest: \n",
    "#trans_id_of_interest = df_genenames.select(pl.col(\"transcript_ids\").explode()).to_series().to_list()\n",
    "\n",
    "def make_cancer_specific_tsv(cancer_type_abb, write_file):\n",
    "    # Make list of sample ids for different cancer types\n",
    "\n",
    "    sample_id_cancertype = df_pheno.filter(pl.col(\"cancer type abbreviation\") == cancer_type_abb).select(pl.col(\"sample\")).to_numpy()\n",
    "    #sample_id_data = np.array(lf_data.collect_schema().names())\n",
    "    sample_id_data = np.array(lf_data.limit(1).collect().columns)\n",
    "    sample_id_cancertype = set(np.intersect1d(sample_id_cancertype, sample_id_data))\n",
    "\n",
    "    # Subset lazyframe to include only samples from cancer type of interest.\n",
    "    lf_data_cancertype = lf_data.select(sample_id_cancertype.union(set([\"sample\"])))\n",
    "\n",
    "    # Use list to filter the data: \n",
    "    lf_data_cancertype = lf_data_cancertype.join(trans_id_of_interest, on=\"sample\")    \n",
    "\n",
    "    # Move transcript id and name columns to beginning and sort by transcript name: \n",
    "    lf_data_cancertype = lf_data_cancertype.select(sorted(lf_data_cancertype.columns, key=str.casefold)).sort(by=\"Name\")\n",
    "\n",
    "    out_path = \"/zhome/94/f/147417/tma_thesis/data/xena/TCGA_pancan_expected_count_transcripts_{}.tsv\".format(cancer_type_abb)\n",
    "\n",
    "    if write_file: \n",
    "        if os.path.exists(out_path):\n",
    "            os.remove(out_path)\n",
    "\n",
    "        lf_data_cancertype.collect().write_csv(out_path, separator=\"\\t\")\n",
    "\n",
    "    return lf_data_cancertype\n",
    "\n",
    "\n"
   ]
  },
  {
   "cell_type": "code",
   "execution_count": 8,
   "metadata": {},
   "outputs": [
    {
     "name": "stdout",
     "output_type": "stream",
     "text": [
      "LAML\n",
      "CHOL\n",
      "CESC\n",
      "DLBC\n",
      "HNSC\n",
      "BRCA\n",
      "PAAD\n",
      "SKCM\n",
      "LUAD\n",
      "LUSC\n"
     ]
    }
   ],
   "source": [
    "for c_type in cancer_type_list: \n",
    "    print(c_type)\n",
    "    make_cancer_specific_tsv(c_type, True)\n"
   ]
  }
 ],
 "metadata": {
  "kernelspec": {
   "display_name": "Python 3",
   "language": "python",
   "name": "python3"
  },
  "language_info": {
   "codemirror_mode": {
    "name": "ipython",
    "version": 3
   },
   "file_extension": ".py",
   "mimetype": "text/x-python",
   "name": "python",
   "nbconvert_exporter": "python",
   "pygments_lexer": "ipython3",
   "version": "3.9.18"
  }
 },
 "nbformat": 4,
 "nbformat_minor": 2
}
