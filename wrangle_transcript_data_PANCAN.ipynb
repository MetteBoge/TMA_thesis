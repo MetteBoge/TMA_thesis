{
 "cells": [
  {
   "cell_type": "code",
   "execution_count": 104,
   "metadata": {},
   "outputs": [],
   "source": [
    "import polars as pl\n",
    "import numpy as np\n",
    "import requests\n",
    "from zipfile import ZipFile\n",
    "\n",
    "import psutil"
   ]
  },
  {
   "cell_type": "code",
   "execution_count": 105,
   "metadata": {},
   "outputs": [
    {
     "name": "stdout",
     "output_type": "stream",
     "text": [
      "Total memory: 1007.09 GB\n",
      "Available memory: 972.97 GB\n"
     ]
    }
   ],
   "source": [
    "\n",
    "\n",
    "# Get total memory\n",
    "total_memory = psutil.virtual_memory().total / (1024 ** 3)  # Convert to GB\n",
    "available_memory = psutil.virtual_memory().available / (1024 ** 3)  # Convert to GB\n",
    "\n",
    "print(f\"Total memory: {total_memory:.2f} GB\")\n",
    "print(f\"Available memory: {available_memory:.2f} GB\")"
   ]
  },
  {
   "cell_type": "code",
   "execution_count": 106,
   "metadata": {},
   "outputs": [],
   "source": [
    "# Download file anew: (takes 13 m 12s)\n",
    "chunk_size = 4096\n",
    "filename = \"C:/Users/Mette/OneDrive - Danmarks Tekniske Universitet/11. Semester Speciale/Data/Xena/TCGA_PANCAN_transcript_expression_RNAseq_RSEM_tpm.gz\"\n",
    "document_url = \"https://toil-xena-hub.s3.us-east-1.amazonaws.com/download/tcga_rsem_isoform_tpm.gz\"\n",
    "#with requests.get(document_url, stream=True) as r:\n",
    "#        with open(filename, 'wb') as f:\n",
    "#            for chunk in r.iter_content(chunk_size): \n",
    "#                if chunk:\n",
    "#                    f.write(chunk)"
   ]
  },
  {
   "cell_type": "code",
   "execution_count": 114,
   "metadata": {},
   "outputs": [],
   "source": [
    "in_file = \"/zhome/94/f/147417/tma_thesis/data/xena/tcga_Kallisto_tpm.gz\" #TCGA_PANCAN_transcript_expression_RNAseq_RSEM_tpm.tsv\" #\"C:/Users/Mette/OneDrive - Danmarks Tekniske Universitet/11. Semester Speciale/Data/Xena/TCGA_PANCAN_transcript_expression_RNAseq_RSEM_tpm.gz\"\n",
    "in_pheno2 = \"/zhome/94/f/147417/tma_thesis/data/xena/TCGA_PANCAN_curated_clinical_data.tsv\" # \"C:/Users/Mette/OneDrive - Danmarks Tekniske Universitet/11. Semester Speciale/Data/Xena/TCGA_PANCAN_curated_clinical_data.tsv\"\n",
    "#in_transcript_id = \"/zhome/94/f/147417/tma_thesis/data/xena/TCGA_PANCAN_transcript_expression_RNAseq_RSEM_transcript_list.txt\" # \"C:/Users/Mette/OneDrive - Danmarks Tekniske Universitet/11. Semester Speciale/Data/Xena/TCGA_PANCAN_transcript_expression_RNAseq_RSEM_transcript_list.txt\"\n",
    "in_genenames = \"/zhome/94/f/147417/tma_thesis/data/targets_ensg.csv\" # \"C:/Users/Mette/OneDrive - Danmarks Tekniske Universitet/11. Semester Speciale/Data/targets_ensg.csv\""
   ]
  },
  {
   "cell_type": "code",
   "execution_count": null,
   "metadata": {},
   "outputs": [],
   "source": [
    "# Load dataframe as lazy using polars\n",
    "lf_data = pl.scan_csv(in_file, separator=\"\\t\")\n",
    "\n",
    "# Load transcript ids:\n",
    "#with open(in_transcript_id) as f:  \n",
    "#    transcript_id_list = f.read().splitlines()\n",
    "#transcript_id_list.pop(0) # Remove \"column name\"s\n",
    "\n",
    "# Add it to the lf_data: \n",
    "#lf_data = lf_data.with_columns(trans_id = transcript_id_list)\n",
    "\n",
    "# Remove trailing . and digits on the transcript ids:\n",
    "lf_data = lf_data.with_columns(pl.col(\"sample\").str.split(\".\").list.get(0))\n",
    "\n",
    "# Load gene names as dataframe: \n",
    "df_genenames = pl.read_csv(in_genenames)"
   ]
  },
  {
   "cell_type": "code",
   "execution_count": 109,
   "metadata": {},
   "outputs": [],
   "source": [
    "# Define a function to fetch transcript IDs from Ensembl\n",
    "def fetch_transcript_ids_from_ensembl(gene_id):\n",
    "    url = f\"https://rest.ensembl.org/lookup/id/{gene_id}?expand=1\"\n",
    "    response = requests.get(url, headers={\"Content-Type\": \"application/json\"})\n",
    "    if response.ok:\n",
    "        data = response.json()\n",
    "        return [transcript['id'] for transcript in data.get('Transcript', [])]\n",
    "    else:\n",
    "        return []"
   ]
  },
  {
   "cell_type": "code",
   "execution_count": 110,
   "metadata": {},
   "outputs": [],
   "source": [
    "# From ensembl API get the transcript IDs for all genes of interest: \n",
    "# Apply the API function to the DataFrame\n",
    "df_genenames = df_genenames.with_columns(pl.col(\"converted_alias\").map_elements(fetch_transcript_ids_from_ensembl).alias(\"transcript_ids\"))\n",
    "\n",
    "# Get a list of all the transcript IDs related to any of the 14 genes of interest: \n",
    "trans_id_of_interest = df_genenames.select(pl.col(\"transcript_ids\").explode()).to_series().to_list()\n",
    "\n",
    "def make_cancer_specific_tsv(cancer_type_abb, write_file):\n",
    "    # Make list of sample ids for different cancer types\n",
    "    df_pheno = pl.read_csv(in_pheno2, separator=\"\\t\")\n",
    "    sample_id_cancertype = df_pheno.filter(pl.col(\"cancer type abbreviation\") == cancer_type_abb).select(pl.col(\"sample\")).to_numpy()\n",
    "    #sample_id_data = np.array(lf_data.collect_schema().names())\n",
    "    sample_id_data = np.array(lf_data.limit(1).collect().columns)\n",
    "    sample_id_cancertype = set(np.intersect1d(sample_id_cancertype, sample_id_data))\n",
    "\n",
    "    # Subset lazyframe to include only samples from cancer type of interest.\n",
    "    lf_data_cancertype = lf_data.select(sample_id_cancertype.union(set([\"sample\"])))\n",
    "\n",
    "    # Use list to filter the data: \n",
    "    lf_data_cancertype = lf_data_cancertype.filter(pl.col(\"sample\").is_in(trans_id_of_interest))\n",
    "\n",
    "    # Put rename \"sample\" columns and move to first posititon.\n",
    "    all_columns = lf_data_cancertype.columns\n",
    "    lf_data_cancertype = lf_data_cancertype.rename(\n",
    "        {\"sample\": \"transcript_id\"}\n",
    "    ).select(\n",
    "        [pl.col(\"transcript_id\")]  + [pl.col(c) for c in all_columns if c != \"sample\"]\n",
    "    )\n",
    "\n",
    "    if write_file: \n",
    "        lf_data_cancertype.sink_csv(\"/zhome/94/f/147417/tma_thesis/data/xena/TCGA_PANCAN_transcript_expression_RNAseq_RSEM_tpm_{}.tsv\".format(cancer_type_abb))\n",
    "\n",
    "    return lf_data_cancertype.collect()\n"
   ]
  },
  {
   "cell_type": "code",
   "execution_count": 112,
   "metadata": {},
   "outputs": [],
   "source": [
    "cancer_type_list = [\"LAML\", \"CHOL\", \"CESC\", \"DLBC\", \"HNSC\", \"BRCA\", \"LUAD\", \"LUSC\"]\n",
    "\n",
    "for c_type in cancer_type_list: \n",
    "    df_c_type = make_cancer_specific_tsv(c_type, True)"
   ]
  }
 ],
 "metadata": {
  "kernelspec": {
   "display_name": "base",
   "language": "python",
   "name": "python3"
  },
  "language_info": {
   "codemirror_mode": {
    "name": "ipython",
    "version": 3
   },
   "file_extension": ".py",
   "mimetype": "text/x-python",
   "name": "python",
   "nbconvert_exporter": "python",
   "pygments_lexer": "ipython3",
   "version": "3.9.18"
  }
 },
 "nbformat": 4,
 "nbformat_minor": 2
}
