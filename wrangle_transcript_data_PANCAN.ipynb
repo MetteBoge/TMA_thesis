{
 "cells": [
  {
   "cell_type": "code",
   "execution_count": 5,
   "metadata": {},
   "outputs": [],
   "source": [
    "import polars as pl\n",
    "import numpy as np\n",
    "import requests\n",
    "from zipfile import ZipFile"
   ]
  },
  {
   "cell_type": "code",
   "execution_count": 2,
   "metadata": {},
   "outputs": [],
   "source": [
    "# Download file anew: (takes 13 m 12s)\n",
    "chunk_size = 4096\n",
    "filename = \"C:/Users/Mette/OneDrive - Danmarks Tekniske Universitet/11. Semester Speciale/Data/Xena/TCGA_PANCAN_transcript_expression_RNAseq_RSEM_tpm.gz\"\n",
    "document_url = \"https://toil-xena-hub.s3.us-east-1.amazonaws.com/download/tcga_rsem_isoform_tpm.gz\"\n",
    "#with requests.get(document_url, stream=True) as r:\n",
    "#        with open(filename, 'wb') as f:\n",
    "#            for chunk in r.iter_content(chunk_size): \n",
    "#                if chunk:\n",
    "#                    f.write(chunk)"
   ]
  },
  {
   "cell_type": "code",
   "execution_count": 3,
   "metadata": {},
   "outputs": [],
   "source": [
    "in_file = \"C:/Users/Mette/OneDrive - Danmarks Tekniske Universitet/11. Semester Speciale/Data/Xena/TCGA_PANCAN_transcript_expression_RNAseq_RSEM_tpm.gz\"\n",
    "in_pheno2 = \"C:/Users/Mette/OneDrive - Danmarks Tekniske Universitet/11. Semester Speciale/Data/Xena/TCGA_PANCAN_curated_clinical_data.tsv\"\n",
    "in_transcript_id = \"C:/Users/Mette/OneDrive - Danmarks Tekniske Universitet/11. Semester Speciale/Data/Xena/TCGA_PANCAN_transcript_expression_RNAseq_RSEM_transcript_list.txt\"\n",
    "in_genenames = \"C:/Users/Mette/OneDrive - Danmarks Tekniske Universitet/11. Semester Speciale/Data/targets_ensg.csv\""
   ]
  },
  {
   "cell_type": "code",
   "execution_count": 6,
   "metadata": {},
   "outputs": [],
   "source": [
    "# Load dataframe as lazy using polars\n",
    "lf_data = pl.scan_csv(in_file, separator=\"\\t\")\n",
    "\n",
    "# Load transcript ids:\n",
    "with open(in_transcript_id) as f:  \n",
    "    transcript_id_list = f.read().splitlines()\n",
    "transcript_id_list.pop(0) # Remove \"column name\"s\n",
    "\n",
    "# Add it to the lf_data: \n",
    "lf_data = lf_data.with_columns(trans_id = transcript_id_list)\n",
    "\n",
    "# Load gene names as dataframe: \n",
    "df_genenames = pl.read_csv(in_genenames)"
   ]
  },
  {
   "cell_type": "code",
   "execution_count": 7,
   "metadata": {},
   "outputs": [
    {
     "ename": "ComputeError",
     "evalue": "out of memory\n\nThis error occurred with the following context stack:\n\t[1] 'csv scan' failed\n\t[2] 'with_columns' input failed to resolve\n",
     "output_type": "error",
     "traceback": [
      "\u001b[1;31m---------------------------------------------------------------------------\u001b[0m",
      "\u001b[1;31mComputeError\u001b[0m                              Traceback (most recent call last)",
      "\u001b[1;32m~\\AppData\\Local\\Temp\\ipykernel_20112\\141165212.py\u001b[0m in \u001b[0;36m<module>\u001b[1;34m\u001b[0m\n\u001b[1;32m----> 1\u001b[1;33m \u001b[0mlen\u001b[0m\u001b[1;33m(\u001b[0m\u001b[0mlf_data\u001b[0m\u001b[1;33m.\u001b[0m\u001b[0mcollect_schema\u001b[0m\u001b[1;33m(\u001b[0m\u001b[1;33m)\u001b[0m\u001b[1;33m.\u001b[0m\u001b[0mnames\u001b[0m\u001b[1;33m(\u001b[0m\u001b[1;33m)\u001b[0m\u001b[1;33m)\u001b[0m\u001b[1;33m\u001b[0m\u001b[1;33m\u001b[0m\u001b[0m\n\u001b[0m",
      "\u001b[1;32mc:\\Users\\Mette\\anaconda3\\lib\\site-packages\\polars\\lazyframe\\frame.py\u001b[0m in \u001b[0;36mcollect_schema\u001b[1;34m(self)\u001b[0m\n\u001b[0;32m   2234\u001b[0m         \u001b[1;36m3\u001b[0m\u001b[1;33m\u001b[0m\u001b[1;33m\u001b[0m\u001b[0m\n\u001b[0;32m   2235\u001b[0m         \"\"\"\n\u001b[1;32m-> 2236\u001b[1;33m         \u001b[1;32mreturn\u001b[0m \u001b[0mSchema\u001b[0m\u001b[1;33m(\u001b[0m\u001b[0mself\u001b[0m\u001b[1;33m.\u001b[0m\u001b[0m_ldf\u001b[0m\u001b[1;33m.\u001b[0m\u001b[0mcollect_schema\u001b[0m\u001b[1;33m(\u001b[0m\u001b[1;33m)\u001b[0m\u001b[1;33m)\u001b[0m\u001b[1;33m\u001b[0m\u001b[1;33m\u001b[0m\u001b[0m\n\u001b[0m\u001b[0;32m   2237\u001b[0m \u001b[1;33m\u001b[0m\u001b[0m\n\u001b[0;32m   2238\u001b[0m     \u001b[1;33m@\u001b[0m\u001b[0munstable\u001b[0m\u001b[1;33m(\u001b[0m\u001b[1;33m)\u001b[0m\u001b[1;33m\u001b[0m\u001b[1;33m\u001b[0m\u001b[0m\n",
      "\u001b[1;31mComputeError\u001b[0m: out of memory\n\nThis error occurred with the following context stack:\n\t[1] 'csv scan' failed\n\t[2] 'with_columns' input failed to resolve\n"
     ]
    }
   ],
   "source": [
    "len(lf_data.collect_schema().names())"
   ]
  },
  {
   "cell_type": "code",
   "execution_count": 5,
   "metadata": {},
   "outputs": [],
   "source": [
    "# Make list of sample ids for different cancer types\n",
    "df_pheno = pl.read_csv(in_pheno2, separator=\"\\t\")\n",
    "sample_id_PAAD = df_pheno.filter(pl.col(\"cancer type abbreviation\") == \"PAAD\").select(pl.col(\"sample\")).to_numpy()\n",
    "sample_id_data = np.array(lf_data.collect_schema().names())\n",
    "sample_id_PAAD = set(np.intersect1d(sample_id_PAAD, sample_id_data))\n",
    "\n",
    "# Subset lazyframe to include only samples from cancer type of interest.\n",
    "#lf_data_PAAD = lf_data.select(sample_id_PAAD.union(set([\"trans_id\"])))"
   ]
  },
  {
   "cell_type": "code",
   "execution_count": 5,
   "metadata": {},
   "outputs": [
    {
     "name": "stderr",
     "output_type": "stream",
     "text": [
      "C:\\Users\\Mette\\AppData\\Local\\Temp\\ipykernel_14260\\1198829557.py:14: MapWithoutReturnDtypeWarning: Calling `map_elements` without specifying `return_dtype` can lead to unpredictable results. Specify `return_dtype` to silence this warning.\n",
      "  df_genenames = df_genenames.with_columns(pl.col(\"converted_alias\").map_elements(fetch_transcript_ids_from_ensembl).alias(\"transcript_ids\"))\n"
     ]
    }
   ],
   "source": [
    "# From ensembl API get the transcript IDs for all genes of interest: \n",
    "\n",
    "# Define a function to fetch transcript IDs from Ensembl\n",
    "def fetch_transcript_ids_from_ensembl(gene_id):\n",
    "    url = f\"https://rest.ensembl.org/lookup/id/{gene_id}?expand=1\"\n",
    "    response = requests.get(url, headers={\"Content-Type\": \"application/json\"})\n",
    "    if response.ok:\n",
    "        data = response.json()\n",
    "        return [transcript['id'] for transcript in data.get('Transcript', [])]\n",
    "    else:\n",
    "        return []\n",
    "\n",
    "# Apply the API function to the DataFrame\n",
    "df_genenames = df_genenames.with_columns(pl.col(\"converted_alias\").map_elements(fetch_transcript_ids_from_ensembl).alias(\"transcript_ids\"))\n",
    "\n",
    "# Get a list of all the transcript IDs related to any of the 14 genes of interest: \n",
    "trans_id_of_interest = df_genenames.select(pl.col(\"transcript_ids\").explode()).to_series().to_list()\n"
   ]
  },
  {
   "cell_type": "code",
   "execution_count": 1,
   "metadata": {},
   "outputs": [
    {
     "ename": "NameError",
     "evalue": "name 'lf_data_PAAD_subset' is not defined",
     "output_type": "error",
     "traceback": [
      "\u001b[1;31m---------------------------------------------------------------------------\u001b[0m",
      "\u001b[1;31mNameError\u001b[0m                                 Traceback (most recent call last)",
      "\u001b[1;32m~\\AppData\\Local\\Temp\\ipykernel_2936\\4163054345.py\u001b[0m in \u001b[0;36m<module>\u001b[1;34m\u001b[0m\n\u001b[1;32m----> 1\u001b[1;33m \u001b[0mlf_data_PAAD_subset\u001b[0m\u001b[1;33m\u001b[0m\u001b[1;33m\u001b[0m\u001b[0m\n\u001b[0m",
      "\u001b[1;31mNameError\u001b[0m: name 'lf_data_PAAD_subset' is not defined"
     ]
    }
   ],
   "source": [
    "lf_data_PAAD_subset"
   ]
  },
  {
   "cell_type": "code",
   "execution_count": 7,
   "metadata": {},
   "outputs": [
    {
     "ename": "",
     "evalue": "",
     "output_type": "error",
     "traceback": [
      "\u001b[1;31mThe Kernel crashed while executing code in the the current cell or a previous cell. Please review the code in the cell(s) to identify a possible cause of the failure. Click <a href='https://aka.ms/vscodeJupyterKernelCrash'>here</a> for more info. View Jupyter <a href='command:jupyter.viewOutput'>log</a> for further details."
     ]
    }
   ],
   "source": [
    "#lf_data_PAAD.filter(pl.col(\"trans_id\").is_in(pl.Series(trans_id_of_interest)))\n",
    "\n",
    "lf_trans_id_of_interest = pl.LazyFrame({\"trans_id\": trans_id_of_interest})\n",
    "lf_data_PAAD_subset = lf_data_PAAD.join(lf_trans_id_of_interest, on=\"trans_id\", how=\"inner\")\n",
    "\n",
    "sample_lf = lf_data_PAAD_subset.limit(5)  # Limit to first 1000 rows for testing\n",
    "df_sample = sample_lf.collect()\n",
    "print(df_sample)"
   ]
  },
  {
   "cell_type": "code",
   "execution_count": 56,
   "metadata": {},
   "outputs": [
    {
     "data": {
      "text/plain": [
       "{'TCGA-2J-AAB1-01',\n",
       " 'TCGA-2J-AAB4-01',\n",
       " 'TCGA-2J-AAB6-01',\n",
       " 'TCGA-2J-AAB8-01',\n",
       " 'TCGA-2J-AAB9-01',\n",
       " 'TCGA-2J-AABA-01',\n",
       " 'TCGA-2J-AABE-01',\n",
       " 'TCGA-2J-AABF-01',\n",
       " 'TCGA-2J-AABH-01',\n",
       " 'TCGA-2J-AABI-01',\n",
       " 'TCGA-2J-AABK-01',\n",
       " 'TCGA-2J-AABO-01',\n",
       " 'TCGA-2J-AABP-01',\n",
       " 'TCGA-2J-AABR-01',\n",
       " 'TCGA-2J-AABT-01',\n",
       " 'TCGA-2J-AABU-01',\n",
       " 'TCGA-2J-AABV-01',\n",
       " 'TCGA-2L-AAQA-01',\n",
       " 'TCGA-2L-AAQE-01',\n",
       " 'TCGA-2L-AAQI-01',\n",
       " 'TCGA-2L-AAQJ-01',\n",
       " 'TCGA-2L-AAQL-01',\n",
       " 'TCGA-2L-AAQM-01',\n",
       " 'TCGA-3A-A9I5-01',\n",
       " 'TCGA-3A-A9I7-01',\n",
       " 'TCGA-3A-A9I9-01',\n",
       " 'TCGA-3A-A9IB-01',\n",
       " 'TCGA-3A-A9IC-01',\n",
       " 'TCGA-3A-A9IH-01',\n",
       " 'TCGA-3A-A9IJ-01',\n",
       " 'TCGA-3A-A9IL-01',\n",
       " 'TCGA-3A-A9IN-01',\n",
       " 'TCGA-3A-A9IO-01',\n",
       " 'TCGA-3A-A9IR-01',\n",
       " 'TCGA-3A-A9IS-01',\n",
       " 'TCGA-3A-A9IU-01',\n",
       " 'TCGA-3A-A9IV-01',\n",
       " 'TCGA-3A-A9IX-01',\n",
       " 'TCGA-3A-A9IZ-01',\n",
       " 'TCGA-3A-A9J0-01',\n",
       " 'TCGA-3E-AAAY-01',\n",
       " 'TCGA-3E-AAAZ-01',\n",
       " 'TCGA-F2-6879-01',\n",
       " 'TCGA-F2-6880-01',\n",
       " 'TCGA-F2-7273-01',\n",
       " 'TCGA-F2-7276-01',\n",
       " 'TCGA-F2-A44G-01',\n",
       " 'TCGA-F2-A44H-01',\n",
       " 'TCGA-F2-A7TX-01',\n",
       " 'TCGA-F2-A8YN-01',\n",
       " 'TCGA-FB-A4P5-01',\n",
       " 'TCGA-FB-A4P6-01',\n",
       " 'TCGA-FB-A545-01',\n",
       " 'TCGA-FB-A5VM-01',\n",
       " 'TCGA-FB-A78T-01',\n",
       " 'TCGA-FB-A7DR-01',\n",
       " 'TCGA-FB-AAPP-01',\n",
       " 'TCGA-FB-AAPQ-01',\n",
       " 'TCGA-FB-AAPS-01',\n",
       " 'TCGA-FB-AAPU-01',\n",
       " 'TCGA-FB-AAPY-01',\n",
       " 'TCGA-FB-AAPZ-01',\n",
       " 'TCGA-FB-AAQ0-01',\n",
       " 'TCGA-FB-AAQ1-01',\n",
       " 'TCGA-FB-AAQ2-01',\n",
       " 'TCGA-FB-AAQ3-01',\n",
       " 'TCGA-FB-AAQ6-01',\n",
       " 'TCGA-H6-8124-01',\n",
       " 'TCGA-H6-8124-11',\n",
       " 'TCGA-H6-A45N-01',\n",
       " 'TCGA-H6-A45N-11',\n",
       " 'TCGA-H8-A6C1-01',\n",
       " 'TCGA-HV-A5A3-01',\n",
       " 'TCGA-HV-A5A3-11',\n",
       " 'TCGA-HV-A5A4-01',\n",
       " 'TCGA-HV-A5A5-01',\n",
       " 'TCGA-HV-A5A6-01',\n",
       " 'TCGA-HV-A7OL-01',\n",
       " 'TCGA-HV-A7OP-01',\n",
       " 'TCGA-HV-AA8V-01',\n",
       " 'TCGA-HV-AA8X-01',\n",
       " 'TCGA-HZ-7289-01',\n",
       " 'TCGA-HZ-7918-01',\n",
       " 'TCGA-HZ-7919-01',\n",
       " 'TCGA-HZ-7920-01',\n",
       " 'TCGA-HZ-7922-01',\n",
       " 'TCGA-HZ-7923-01',\n",
       " 'TCGA-HZ-7924-01',\n",
       " 'TCGA-HZ-7925-01',\n",
       " 'TCGA-HZ-7926-01',\n",
       " 'TCGA-HZ-8001-01',\n",
       " 'TCGA-HZ-8002-01',\n",
       " 'TCGA-HZ-8003-01',\n",
       " 'TCGA-HZ-8005-01',\n",
       " 'TCGA-HZ-8315-01',\n",
       " 'TCGA-HZ-8317-01',\n",
       " 'TCGA-HZ-8519-01',\n",
       " 'TCGA-HZ-8636-01',\n",
       " 'TCGA-HZ-8637-01',\n",
       " 'TCGA-HZ-8638-01',\n",
       " 'TCGA-HZ-A49G-01',\n",
       " 'TCGA-HZ-A49H-01',\n",
       " 'TCGA-HZ-A49I-01',\n",
       " 'TCGA-HZ-A4BH-01',\n",
       " 'TCGA-HZ-A4BK-01',\n",
       " 'TCGA-HZ-A77O-01',\n",
       " 'TCGA-HZ-A77P-01',\n",
       " 'TCGA-HZ-A77Q-01',\n",
       " 'TCGA-HZ-A8P0-01',\n",
       " 'TCGA-HZ-A8P1-01',\n",
       " 'TCGA-HZ-A9TJ-01',\n",
       " 'TCGA-HZ-A9TJ-06',\n",
       " 'TCGA-IB-7644-01',\n",
       " 'TCGA-IB-7645-01',\n",
       " 'TCGA-IB-7646-01',\n",
       " 'TCGA-IB-7647-01',\n",
       " 'TCGA-IB-7649-01',\n",
       " 'TCGA-IB-7651-01',\n",
       " 'TCGA-IB-7652-01',\n",
       " 'TCGA-IB-7654-01',\n",
       " 'TCGA-IB-7885-01',\n",
       " 'TCGA-IB-7886-01',\n",
       " 'TCGA-IB-7887-01',\n",
       " 'TCGA-IB-7888-01',\n",
       " 'TCGA-IB-7889-01',\n",
       " 'TCGA-IB-7890-01',\n",
       " 'TCGA-IB-7891-01',\n",
       " 'TCGA-IB-7893-01',\n",
       " 'TCGA-IB-7897-01',\n",
       " 'TCGA-IB-8126-01',\n",
       " 'TCGA-IB-8127-01',\n",
       " 'TCGA-IB-A5SO-01',\n",
       " 'TCGA-IB-A5SP-01',\n",
       " 'TCGA-IB-A5SQ-01',\n",
       " 'TCGA-IB-A5SS-01',\n",
       " 'TCGA-IB-A5ST-01',\n",
       " 'TCGA-IB-A6UF-01',\n",
       " 'TCGA-IB-A6UG-01',\n",
       " 'TCGA-IB-A7LX-01',\n",
       " 'TCGA-IB-A7M4-01',\n",
       " 'TCGA-IB-AAUM-01',\n",
       " 'TCGA-IB-AAUN-01',\n",
       " 'TCGA-IB-AAUO-01',\n",
       " 'TCGA-IB-AAUP-01',\n",
       " 'TCGA-IB-AAUQ-01',\n",
       " 'TCGA-IB-AAUR-01',\n",
       " 'TCGA-IB-AAUS-01',\n",
       " 'TCGA-IB-AAUT-01',\n",
       " 'TCGA-IB-AAUU-01',\n",
       " 'TCGA-IB-AAUV-01',\n",
       " 'TCGA-IB-AAUW-01',\n",
       " 'TCGA-L1-A7W4-01',\n",
       " 'TCGA-LB-A7SX-01',\n",
       " 'TCGA-LB-A8F3-01',\n",
       " 'TCGA-LB-A9Q5-01',\n",
       " 'TCGA-M8-A5N4-01',\n",
       " 'TCGA-OE-A75W-01',\n",
       " 'TCGA-PZ-A5RE-01',\n",
       " 'TCGA-Q3-A5QY-01',\n",
       " 'TCGA-Q3-AA2A-01',\n",
       " 'TCGA-RB-A7B8-01',\n",
       " 'TCGA-RB-AA9M-01',\n",
       " 'TCGA-RL-AAAS-01',\n",
       " 'TCGA-S4-A8RM-01',\n",
       " 'TCGA-S4-A8RO-01',\n",
       " 'TCGA-S4-A8RP-01',\n",
       " 'TCGA-US-A774-01',\n",
       " 'TCGA-US-A776-01',\n",
       " 'TCGA-US-A779-01',\n",
       " 'TCGA-US-A77E-01',\n",
       " 'TCGA-US-A77G-01',\n",
       " 'TCGA-US-A77J-01',\n",
       " 'TCGA-XD-AAUG-01',\n",
       " 'TCGA-XD-AAUH-01',\n",
       " 'TCGA-XD-AAUI-01',\n",
       " 'TCGA-XD-AAUL-01',\n",
       " 'TCGA-XN-A8T3-01',\n",
       " 'TCGA-XN-A8T5-01',\n",
       " 'TCGA-YB-A89D-01',\n",
       " 'TCGA-YB-A89D-11',\n",
       " 'TCGA-YH-A8SY-01',\n",
       " 'TCGA-YY-A8LH-01',\n",
       " 'TCGA-Z5-AAPL-01',\n",
       " 'trans_id'}"
      ]
     },
     "execution_count": 56,
     "metadata": {},
     "output_type": "execute_result"
    }
   ],
   "source": [
    "set([\"trans_id\"]).union(sample_id_PAAD)\n",
    "\n",
    "sample_id_PAAD.union(set([\"trans_id\"]))"
   ]
  }
 ],
 "metadata": {
  "kernelspec": {
   "display_name": "base",
   "language": "python",
   "name": "python3"
  },
  "language_info": {
   "codemirror_mode": {
    "name": "ipython",
    "version": 3
   },
   "file_extension": ".py",
   "mimetype": "text/x-python",
   "name": "python",
   "nbconvert_exporter": "python",
   "pygments_lexer": "ipython3",
   "version": "3.9.13"
  }
 },
 "nbformat": 4,
 "nbformat_minor": 2
}
